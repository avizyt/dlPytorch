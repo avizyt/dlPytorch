{
 "cells": [
  {
   "attachments": {},
   "cell_type": "markdown",
   "metadata": {},
   "source": [
    "# OOP Design for implementation"
   ]
  },
  {
   "cell_type": "code",
   "execution_count": 49,
   "metadata": {},
   "outputs": [],
   "source": [
    "import time\n",
    "import sys\n",
    "import numpy as np\n",
    "import torch\n",
    "from torch import nn\n",
    "from d2l import torch as d2l\n",
    "import collections\n"
   ]
  },
  {
   "attachments": {},
   "cell_type": "markdown",
   "metadata": {},
   "source": [
    "### Using Decorator for better code implementation"
   ]
  },
  {
   "attachments": {},
   "cell_type": "markdown",
   "metadata": {},
   "source": [
    "## First:\n",
    "\n",
    "Utility function allows us to register function as method in class after the class has been created.we can do so even after we have created instances of the class! It allows us to split the implementation of a class into multiple code blocks."
   ]
  },
  {
   "cell_type": "code",
   "execution_count": 50,
   "metadata": {},
   "outputs": [],
   "source": [
    "def add_to_class(Class):\n",
    "    \"\"\"Register function as method in created class.\"\"\"\n",
    "    def wrapper(obj):\n",
    "        setattr(Class, obj.__name__, obj)\n",
    "    return wrapper"
   ]
  },
  {
   "attachments": {},
   "cell_type": "markdown",
   "metadata": {},
   "source": [
    "Let see what `add_to_class()` will do."
   ]
  },
  {
   "cell_type": "code",
   "execution_count": 51,
   "metadata": {},
   "outputs": [],
   "source": [
    "class A:\n",
    "    def __init__(self) -> None:\n",
    "        self.b = 1\n",
    "\n",
    "a = A()"
   ]
  },
  {
   "attachments": {},
   "cell_type": "markdown",
   "metadata": {},
   "source": [
    "Class A is created and instantiated, now we code method for the class and add it via decorator `add_to_class()`."
   ]
  },
  {
   "cell_type": "code",
   "execution_count": 52,
   "metadata": {},
   "outputs": [
    {
     "ename": "AttributeError",
     "evalue": "'A' object has no attribute 'do'",
     "output_type": "error",
     "traceback": [
      "\u001b[0;31m---------------------------------------------------------------------------\u001b[0m",
      "\u001b[0;31mAttributeError\u001b[0m                            Traceback (most recent call last)",
      "Cell \u001b[0;32mIn[52], line 4\u001b[0m\n\u001b[1;32m      1\u001b[0m \u001b[39mdef\u001b[39;00m \u001b[39mdo\u001b[39m(\u001b[39mself\u001b[39m):\n\u001b[1;32m      2\u001b[0m     \u001b[39mprint\u001b[39m(\u001b[39m\"\u001b[39m\u001b[39mClass attribute \u001b[39m\u001b[39m'\u001b[39m\u001b[39mb\u001b[39m\u001b[39m'\u001b[39m\u001b[39m is\u001b[39m\u001b[39m\"\u001b[39m, \u001b[39mself\u001b[39m\u001b[39m.\u001b[39mb)\n\u001b[0;32m----> 4\u001b[0m a\u001b[39m.\u001b[39;49mdo()\n",
      "\u001b[0;31mAttributeError\u001b[0m: 'A' object has no attribute 'do'"
     ]
    }
   ],
   "source": [
    "def do(self):\n",
    "    print(\"Class attribute 'b' is\", self.b)\n",
    "\n",
    "a.do()"
   ]
  },
  {
   "attachments": {},
   "cell_type": "markdown",
   "metadata": {},
   "source": [
    "we can see that it give am AttributeError: `'A' object has no attribute 'do'`\n",
    "\n",
    "that means there is no Attribute name `do`\n",
    "\n",
    "Now we decorate the function `do()` with `add_to_class()` which will add `do()` as a method to the `class A`\n",
    "\n",
    "lets do it!!"
   ]
  },
  {
   "cell_type": "code",
   "execution_count": null,
   "metadata": {},
   "outputs": [
    {
     "name": "stdout",
     "output_type": "stream",
     "text": [
      "Class attribute 'b' is 1\n"
     ]
    }
   ],
   "source": [
    "@add_to_class(A)\n",
    "def do(self):\n",
    "    print(\"Class attribute 'b' is\", self.b)\n",
    "\n",
    "a.do()"
   ]
  },
  {
   "attachments": {},
   "cell_type": "markdown",
   "metadata": {},
   "source": [
    "Voila!! 😍"
   ]
  },
  {
   "attachments": {},
   "cell_type": "markdown",
   "metadata": {},
   "source": [
    "## Second: \n",
    "Utility class that saves all arguments is a class's `__init__()` method as class attribute.This allows us to extend constructor call signatures implicitly without additional code"
   ]
  },
  {
   "cell_type": "code",
   "execution_count": null,
   "metadata": {},
   "outputs": [],
   "source": [
    "import inspect\n",
    "class HyperParameters:\n",
    "    \"\"\" The base class of Hyperparameters\"\"\"\n",
    "    def save_hypers(self, ignore=[]):\n",
    "        raise NotImplemented"
   ]
  },
  {
   "cell_type": "code",
   "execution_count": null,
   "metadata": {},
   "outputs": [],
   "source": [
    "@add_to_class(HyperParameters)\n",
    "def save_hyperparameters(self, ignore=[]):\n",
    "        \"\"\"Save function arguments into class attributes.\n",
    "    \n",
    "        Defined in :numref:`sec_utils`\"\"\"\n",
    "        frame = inspect.currentframe().f_back\n",
    "        _, _, _, local_vars = inspect.getargvalues(frame)\n",
    "        self.hparams = {k:v for k, v in local_vars.items()\n",
    "                        if k not in set(ignore+['self']) and not k.startswith('_')}\n",
    "        for k, v in self.hparams.items():\n",
    "            setattr(self, k, v)"
   ]
  },
  {
   "cell_type": "code",
   "execution_count": null,
   "metadata": {},
   "outputs": [
    {
     "name": "stdout",
     "output_type": "stream",
     "text": [
      "self.a = 1 self.b = 2\n",
      "There is no self.c = True\n"
     ]
    }
   ],
   "source": [
    "class B(HyperParameters):\n",
    "    def __init__(self, a,b,c) -> None:\n",
    "        self.save_hyperparameters(ignore=['c'])\n",
    "        print('self.a =', self.a, 'self.b =', self.b)\n",
    "        print(\"There is no self.c =\", not hasattr(self, 'c'))\n",
    "\n",
    "b = B(a=1, b=2, c=3)"
   ]
  },
  {
   "cell_type": "code",
   "execution_count": null,
   "metadata": {},
   "outputs": [],
   "source": [
    "class ProgressBoard(HyperParameters):\n",
    "    \"\"\"The board that plots data points in animation.\n",
    "\n",
    "    Defined in :numref:`sec_oo-design`\"\"\"\n",
    "    def __init__(self, xlabel=None, ylabel=None, xlim=None,\n",
    "                 ylim=None, xscale='linear', yscale='linear',\n",
    "                 ls=['-', '--', '-.', ':'], colors=['C0', 'C1', 'C2', 'C3'],\n",
    "                 fig=None, axes=None, figsize=(3.5, 2.5), display=True):\n",
    "        self.save_hyperparameters()\n",
    "\n",
    "    def draw(self, x, y, label, every_n=1):\n",
    "        raise NotImplemented\n",
    "\n",
    "    def draw(self, x, y, label, every_n=1):\n",
    "        \"\"\"Defined in :numref:`sec_utils`\"\"\"\n",
    "        Point = collections.namedtuple('Point', ['x', 'y'])\n",
    "        if not hasattr(self, 'raw_points'):\n",
    "            self.raw_points = collections.OrderedDict()\n",
    "            self.data = collections.OrderedDict()\n",
    "        if label not in self.raw_points:\n",
    "            self.raw_points[label] = []\n",
    "            self.data[label] = []\n",
    "        points = self.raw_points[label]\n",
    "        line = self.data[label]\n",
    "        points.append(Point(x, y))\n",
    "        if len(points) != every_n:\n",
    "            return\n",
    "        mean = lambda x: sum(x) / len(x)\n",
    "        line.append(Point(mean([p.x for p in points]),\n",
    "                          mean([p.y for p in points])))\n",
    "        points.clear()\n",
    "        if not self.display:\n",
    "            return\n",
    "        d2l.use_svg_display()\n",
    "        if self.fig is None:\n",
    "            self.fig = d2l.plt.figure(figsize=self.figsize)\n",
    "        plt_lines, labels = [], []\n",
    "        for (k, v), ls, color in zip(self.data.items(), self.ls, self.colors):\n",
    "            plt_lines.append(d2l.plt.plot([p.x for p in v], [p.y for p in v],\n",
    "                                          linestyle=ls, color=color)[0])\n",
    "            labels.append(k)\n",
    "        axes = self.axes if self.axes else d2l.plt.gca()\n",
    "        if self.xlim: axes.set_xlim(self.xlim)\n",
    "        if self.ylim: axes.set_ylim(self.ylim)\n",
    "        if not self.xlabel: self.xlabel = self.x\n",
    "        axes.set_xlabel(self.xlabel)\n",
    "        axes.set_ylabel(self.ylabel)\n",
    "        axes.set_xscale(self.xscale)\n",
    "        axes.set_yscale(self.yscale)\n",
    "        axes.legend(plt_lines, labels)\n",
    "        display.display(self.fig)\n",
    "        display.clear_output(wait=True)"
   ]
  },
  {
   "cell_type": "code",
   "execution_count": null,
   "metadata": {},
   "outputs": [],
   "source": [
    "class ProgressBoard(HyperParameters):  #@save\n",
    "    \"\"\"The board that plots data points in animation.\"\"\"\n",
    "    def __init__(self, xlabel=None, ylabel=None, xlim=None,\n",
    "                 ylim=None, xscale='linear', yscale='linear',\n",
    "                 ls=['-', '--', '-.', ':'], colors=['C0', 'C1', 'C2', 'C3'],\n",
    "                 fig=None, axes=None, figsize=(3.5, 2.5), display=True):\n",
    "        self.save_hyperparameters()\n",
    "\n",
    "    def draw(self, x, y, label, every_n=1):\n",
    "        raise NotImplemented"
   ]
  },
  {
   "cell_type": "code",
   "execution_count": 54,
   "metadata": {},
   "outputs": [
    {
     "ename": "AttributeError",
     "evalue": "module 'd2l.torch' has no attribute 'ProgressBoard'",
     "output_type": "error",
     "traceback": [
      "\u001b[0;31m---------------------------------------------------------------------------\u001b[0m",
      "\u001b[0;31mAttributeError\u001b[0m                            Traceback (most recent call last)",
      "Cell \u001b[0;32mIn[54], line 1\u001b[0m\n\u001b[0;32m----> 1\u001b[0m board \u001b[39m=\u001b[39m d2l\u001b[39m.\u001b[39;49mProgressBoard(\u001b[39m'\u001b[39m\u001b[39mx\u001b[39m\u001b[39m'\u001b[39m)\n\u001b[1;32m      2\u001b[0m \u001b[39mfor\u001b[39;00m x \u001b[39min\u001b[39;00m np\u001b[39m.\u001b[39marange(\u001b[39m0\u001b[39m, \u001b[39m10\u001b[39m, \u001b[39m0.01\u001b[39m):\n\u001b[1;32m      3\u001b[0m     board\u001b[39m.\u001b[39mdraw(x, np\u001b[39m.\u001b[39msin(x), \u001b[39m'\u001b[39m\u001b[39msin\u001b[39m\u001b[39m'\u001b[39m, every_n\u001b[39m=\u001b[39m\u001b[39m2\u001b[39m)\n",
      "\u001b[0;31mAttributeError\u001b[0m: module 'd2l.torch' has no attribute 'ProgressBoard'"
     ]
    }
   ],
   "source": [
    "board = d2l.ProgressBoard('x')\n",
    "for x in np.arange(0, 10, 0.01):\n",
    "    board.draw(x, np.sin(x), 'sin', every_n=2)\n",
    "    board.draw(x, np.cos(x), 'cos', every_n=10)"
   ]
  },
  {
   "cell_type": "code",
   "execution_count": null,
   "metadata": {},
   "outputs": [],
   "source": []
  }
 ],
 "metadata": {
  "kernelspec": {
   "display_name": "tgpu",
   "language": "python",
   "name": "python3"
  },
  "language_info": {
   "codemirror_mode": {
    "name": "ipython",
    "version": 3
   },
   "file_extension": ".py",
   "mimetype": "text/x-python",
   "name": "python",
   "nbconvert_exporter": "python",
   "pygments_lexer": "ipython3",
   "version": "3.9.15"
  },
  "orig_nbformat": 4,
  "vscode": {
   "interpreter": {
    "hash": "1e712fe74dc594c5818d27d4245bed7904b82800643361041fa3ce5a7db7957c"
   }
  }
 },
 "nbformat": 4,
 "nbformat_minor": 2
}
